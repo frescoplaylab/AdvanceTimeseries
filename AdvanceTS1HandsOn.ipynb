{
 "cells": [
  {
   "cell_type": "markdown",
   "metadata": {},
   "source": [
    "Welcome to the first hands on advanced time series analysis.Follow the instruction provided for each cell to complete the handson. We have created this Python Notebook with all the necessary things needed for completing this exercise. You have to write your code in between the are mentioned\n",
    "### Start Code\n",
    "Your Code here\n",
    "### End Code\n",
    "\n",
    "To run the code in each cell click on the cell and press **shift + enter** "
   ]
  },
  {
   "cell_type": "markdown",
   "metadata": {},
   "source": [
    "- In this hands-on you will be finding the auto correlation and partial auto correlation on an array of numbers.\n",
    "- Run the below cell to load the data and covert it to series object"
   ]
  },
  {
   "cell_type": "code",
   "execution_count": 2,
   "metadata": {},
   "outputs": [],
   "source": [
    "import pandas as pd\n",
    "from pandas import Series\n",
    "timeSeries = [30,21,29,31,40,48,53,47,37,39,31,29,17,9,20,24,27,35,41,38,\n",
    "          27,31,27,26,21,13,21,18,33,35,40,36,22,24,21,20,17,14,17,19,\n",
    "          26,29,40,31,20,24,18,26,17,9,17,21,28,32,46,33,23,28,22,27,\n",
    "          18,8,17,21,31,34,44,38,31,30,26,32]\n",
    "ts = Series(timeSeries)"
   ]
  },
  {
   "cell_type": "markdown",
   "metadata": {},
   "source": [
    "- import acf from stats model\n",
    "- Determine the acf  values upto lag 5, use **ts** as timeseries data, set unbiased = True\n",
    "- assign the acf result to variable 'acf_corr'"
   ]
  },
  {
   "cell_type": "code",
   "execution_count": null,
   "metadata": {},
   "outputs": [],
   "source": [
    "###Start code here\n",
    "\n",
    "acf_corr = \n",
    "###End code(approx 2 lines)\n",
    "print(acf_corr)"
   ]
  },
  {
   "cell_type": "markdown",
   "metadata": {},
   "source": [
    "- import pacf from stats model\n",
    "- Determine the pacf values upto lag 5, use ts as timeseries data\n",
    "- assign the pacf result to variable 'pacf_corr'"
   ]
  },
  {
   "cell_type": "code",
   "execution_count": null,
   "metadata": {},
   "outputs": [],
   "source": [
    "###Start code here\n",
    "\n",
    "pacf_corr = \n",
    "###End code(approx 2 lines)\n",
    "print(pacf_corr)"
   ]
  },
  {
   "cell_type": "markdown",
   "metadata": {},
   "source": [
    "- what is the auto correlation for lag 1?, assign this value to variable acf_lag_1\n",
    "- what is the partial auto correlation for lag 3?, assign this value to variable pacf_lag_3"
   ]
  },
  {
   "cell_type": "code",
   "execution_count": null,
   "metadata": {
    "collapsed": true
   },
   "outputs": [],
   "source": [
    "acf_lag_1 = \n",
    "pacf_lag_3 = \n",
    "with open(\"output.txt\", \"w\") as text_file:\n",
    "    text_file.write(\"acf_lag_1 = %f\\n\" % acf_lag_1)\n",
    "    text_file.write(\"pacf_lag_3 = %f\\n\" % pacf_lag_3)"
   ]
  }
 ],
 "metadata": {
  "kernelspec": {
   "display_name": "Python 3",
   "language": "python",
   "name": "python3"
  },
  "language_info": {
   "codemirror_mode": {
    "name": "ipython",
    "version": 3
   },
   "file_extension": ".py",
   "mimetype": "text/x-python",
   "name": "python",
   "nbconvert_exporter": "python",
   "pygments_lexer": "ipython3",
   "version": "3.6.3"
  }
 },
 "nbformat": 4,
 "nbformat_minor": 2
}
