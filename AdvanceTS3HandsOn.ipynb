{
 "cells": [
  {
   "cell_type": "markdown",
   "metadata": {},
   "source": [
    "Welcome to the third hands on advanced time series analysis.Follow the instruction provided for each cell to complete the handson. We have created this Python Notebook with all the necessary things needed for completing this exercise. You have to write your code in between the  mentioned\n",
    "### Start Code\n",
    "Your Code here\n",
    "### End Code\n",
    "\n",
    "To run the code in each cell click on the cell and press **shift + enter** "
   ]
  },
  {
   "cell_type": "markdown",
   "metadata": {},
   "source": [
    "- In this hands-on you will build an ARIMA model on train set and forecast on the test set\n",
    "-  Run the below cell to load the data."
   ]
  },
  {
   "cell_type": "code",
   "execution_count": null,
   "metadata": {
    "collapsed": true,
    "scrolled": true
   },
   "outputs": [],
   "source": [
    "import pandas as pd\n",
    "from pandas import Series\n",
    "timeSeries  = [30,21,29,31,40,48,53,47,37,39,31,29,17,9,20,24,27,35,41,38,\n",
    "          27,31,27,26,21,13,21,18,33,35,40,36,22,24,21,20,17,14,17,19,\n",
    "          26,29,40,31,20,24,18,26,17,9,17,21,28,32,46,33,23,28,22,27,\n",
    "          18,8,17,21,31,34,44,38,31,30,26,32]\n",
    "ts = Series(timeSeries)\n",
    "X = ts.values"
   ]
  },
  {
   "cell_type": "markdown",
   "metadata": {},
   "source": [
    "- Import ARIMA from statsmodels\n",
    "- Develop a forecasting model with ARIMA\n",
    "- Set the lag value to 5\n",
    "- Set the degree of difference to 1\n",
    "- Set unit moving average size to 0\n",
    "- Let the train test ratio be 4:1 (consider first 80% of data X for train set)  \n",
    "refer the code snippet in the course to build the model"
   ]
  },
  {
   "cell_type": "code",
   "execution_count": null,
   "metadata": {
    "scrolled": true
   },
   "outputs": [],
   "source": [
    "###Start code here\n",
    "                         #import ARIMA\n",
    "X = X.astype('float64')\n",
    "size = \n",
    "train, test = \n",
    "history = \n",
    "predictions = list()\n",
    "for t in range(len(test)):\n",
    "    model = \n",
    "    model_fit = \n",
    "    output = \n",
    "##End code\n",
    "    yhat = output[0]\n",
    "    predictions.append(yhat)\n",
    "    obs = test[t]\n",
    "    history.append(obs)\n",
    "    print('predicted=%f, expected=%f' % (yhat, obs))"
   ]
  },
  {
   "cell_type": "markdown",
   "metadata": {},
   "source": [
    "- Run the below cell to output model error"
   ]
  },
  {
   "cell_type": "code",
   "execution_count": null,
   "metadata": {
    "scrolled": true
   },
   "outputs": [],
   "source": [
    "from sklearn.metrics import mean_squared_error\n",
    "error = mean_squared_error(test, predictions)\n",
    "print(\"MSE = \", error)\n",
    "with open(\"output.txt\", \"w\") as text_file:\n",
    "    text_file.write(\"error = %f\\n\" % error)"
   ]
  }
 ],
 "metadata": {
  "kernelspec": {
   "display_name": "Python 3",
   "language": "python",
   "name": "python3"
  },
  "language_info": {
   "codemirror_mode": {
    "name": "ipython",
    "version": 3
   },
   "file_extension": ".py",
   "mimetype": "text/x-python",
   "name": "python",
   "nbconvert_exporter": "python",
   "pygments_lexer": "ipython3",
   "version": "3.6.3"
  }
 },
 "nbformat": 4,
 "nbformat_minor": 2
}
